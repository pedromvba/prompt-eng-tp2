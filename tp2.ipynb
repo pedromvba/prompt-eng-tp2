{
 "cells": [
  {
   "cell_type": "markdown",
   "metadata": {},
   "source": [
    "# Teste de Performance 2\n",
    "\n",
    "Engenharia de Prompts para Ciência de Dados\n",
    "\n",
    "Pedro Monteiro Vieira Bayma Azevedo"
   ]
  },
  {
   "cell_type": "markdown",
   "metadata": {},
   "source": [
    "## Imports"
   ]
  },
  {
   "cell_type": "code",
   "execution_count": null,
   "metadata": {
    "vscode": {
     "languageId": "plaintext"
    }
   },
   "outputs": [],
   "source": []
  },
  {
   "cell_type": "markdown",
   "metadata": {},
   "source": [
    "## Exercício 1"
   ]
  },
  {
   "cell_type": "markdown",
   "metadata": {},
   "source": [
    "No prompt fornecido podemos identificar os seguintes princípios:\n",
    "\n",
    "1. Contexto e Persona: O contexto e a persona, \"um especialista em turismo\", fornecem informações que auxiliam o modelo a situar a resposta dentro de um cenário ou perspectiva específica. O contexto define o ambiente ou a situação, enquanto a persona pode ajustar o tom ou estilo da resposta com base em quem está respondendo.\n",
    "\n",
    "2. Tarefa Simples e Específica e Direcionamento: O prompt especifica claramente a tarefa a ser realizada, especificando com detalhes o que se espera da resposta do modelo: listar 3 atrações turísticas imperdíveis de Paris e fornecer uma breve descrição para cada uma.\n",
    "\n",
    "3. Formatação: é especificado um formato de saída do dado: \"listar\" e \"fornecer uma breve descrição para cada uma\".\n",
    "\n",
    "4. Exemplificação: foram fornecidos exemplos, também conhecido como few-shot prompting, para permitir que o modelo compeenda melhor o que é esperado dele: \n",
    "\n",
    "        \"Aqui está um exemplo do formato esperado:\n",
    "        Atração 1: Torre Eiffel\n",
    "        Descrição: Um dos monumentos mais icônicos do mundo, conhecido por sua estrutura de ferro e vista panorâmica da cidade.\"\n"
   ]
  },
  {
   "cell_type": "markdown",
   "metadata": {},
   "source": [
    "## Exercício 2"
   ]
  },
  {
   "cell_type": "markdown",
   "metadata": {},
   "source": [
    "### Cliente Tranquilo\n",
    "\n",
    "![Cliente Tranquilo](./images/2-poe-calm-client.png)"
   ]
  },
  {
   "cell_type": "markdown",
   "metadata": {},
   "source": [
    "### Cliente Agressivo\n",
    "\n",
    "![Cliente Agressivo](./images/2-poe-agressive-client.png)"
   ]
  },
  {
   "cell_type": "markdown",
   "metadata": {},
   "source": [
    "### Resposta"
   ]
  },
  {
   "cell_type": "markdown",
   "metadata": {},
   "source": [
    "O comportamento dos clientes nas diferentes situações saiu como esperado. O cliente mais tranquilo foi receptivo ao contato e mesmo não tendo fechado a proposta no momento, mostrou-se aberto à migração. Por sua vez, o cliente mais agressivo não foi receptivo ao contato, buscando o confilito ao invés de focar na proposta."
   ]
  },
  {
   "cell_type": "markdown",
   "metadata": {},
   "source": [
    "## Exercício 3"
   ]
  },
  {
   "cell_type": "markdown",
   "metadata": {},
   "source": [
    "### Mensagem\n",
    "\n",
    "![Mensagem Viagem](./images/3-mensagem-viagens.png)"
   ]
  },
  {
   "cell_type": "markdown",
   "metadata": {},
   "source": [
    "### Resposta\n",
    "\n",
    "O LLM respondeu sim como o esperado, inclusive retornando uma resposta muito bem feita e adequada ao caso, trazendo todos os itens solicitados no prompt, como por exemplo, o desconto oferecido e a data de validade da promoção, além de ter incorporado adequadamente a persona e o tom desejado.\n",
    "\n"
   ]
  },
  {
   "cell_type": "markdown",
   "metadata": {},
   "source": [
    "## Exercício 4"
   ]
  },
  {
   "cell_type": "markdown",
   "metadata": {},
   "source": [
    "### Prompt Sem Few-Shot\n",
    "\n",
    "![No Few](./images/4-no-few-shot.png)\n",
    "\n",
    "### Prompt Com Few-Shot\n",
    "\n",
    "![No Few](./images/4-few-shot.png)"
   ]
  },
  {
   "cell_type": "markdown",
   "metadata": {},
   "source": [
    "### Resposta\n",
    "\n",
    "Contrariando o esperado, o prompt com sem o few shot foi o mais eficaz uma vez que aparentemente o LLM não compreendeu que os few-shots tratavam-se de exemplos e que eu gostaria que ele tivesse gerado novos e não apenas reproduzido o que eu informei inicialmente."
   ]
  },
  {
   "cell_type": "markdown",
   "metadata": {},
   "source": [
    "## Exercício 5"
   ]
  },
  {
   "cell_type": "markdown",
   "metadata": {},
   "source": [
    "### Prompt Criado\n",
    "\n",
    "![Prompt Criado](./images/5%20-criar-prompt.png)"
   ]
  },
  {
   "cell_type": "markdown",
   "metadata": {},
   "source": [
    "### Prompt Retornado\n",
    "\n",
    "![Prompt Retornado](./images/5-lista-equipamentos.png)"
   ]
  },
  {
   "cell_type": "markdown",
   "metadata": {},
   "source": [
    "### Resposta\n",
    "\n",
    "O resultado atendeu parcialmente as expectativas, uma vez que não incluiu um monitor e nem periféricos. Ainda os preços retornados estão em dólares e não em reais, o ideal seria que o LLM identificasse o idioma portugues e trouxesse os resultados na moeda local. Outro ponto de inconsistência foi o valor dos equipamentos que está diferente do comercializado para alguns produtos, como por exemplo os processadores, mesmo quando comparado com valores em dolar em conversão direta ou acessando lojas nos Estados Unidos, todavia os equipamentos existem. Por fim, os equipamentos relacionaos parecem adequados a um computador de alto desempenho, nos levando a concluir que o problema ocorreu não no prompt criado inicialmente, mas na execução do mesmo pelo LLM posteriormente.\n",
    "\n"
   ]
  },
  {
   "cell_type": "markdown",
   "metadata": {},
   "source": [
    "## Exercício 6"
   ]
  },
  {
   "cell_type": "markdown",
   "metadata": {},
   "source": [
    "### Prompt Simples\n",
    "\n",
    "![Prompt Simples](./images/6-prompt-simples.png)"
   ]
  },
  {
   "cell_type": "markdown",
   "metadata": {},
   "source": [
    "### Prompt com Princípios\n",
    "\n",
    "![Prompt Princípios](./images/6-prompt-principios.png)"
   ]
  },
  {
   "cell_type": "markdown",
   "metadata": {},
   "source": [
    "### Resposta\n",
    "\n",
    "Entre um prompt e outro houve diferença entre as vantagens apresentadas pelo LLM nos 2 casos, com alguns pontos aparecendo em somente um deles.\n",
    "\n",
    "Outro ponto de observação foi que o resultado do prompt após a aplicação dos princípios foi mais preciso e claro na apresentação dos pontos, produzindo um conteúdo de melhor qualidade e mais específico, com mais detalhamento e precisão."
   ]
  },
  {
   "cell_type": "markdown",
   "metadata": {},
   "source": []
  }
 ],
 "metadata": {
  "language_info": {
   "name": "python"
  }
 },
 "nbformat": 4,
 "nbformat_minor": 2
}
