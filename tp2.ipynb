{
 "cells": [
  {
   "cell_type": "markdown",
   "metadata": {},
   "source": [
    "# Teste de Performance 2\n",
    "\n",
    "Engenharia de Prompts para Ciência de Dados\n",
    "\n",
    "Pedro Monteiro Vieira Bayma Azevedo"
   ]
  },
  {
   "cell_type": "markdown",
   "metadata": {},
   "source": [
    "## Imports"
   ]
  },
  {
   "cell_type": "code",
   "execution_count": 4,
   "metadata": {},
   "outputs": [
    {
     "name": "stderr",
     "output_type": "stream",
     "text": [
      "/Users/pedromonteiro/Library/Mobile Documents/com~apple~CloudDocs/Faculdade/promptClass/TP2/.venv/lib/python3.12/site-packages/tqdm/auto.py:21: TqdmWarning: IProgress not found. Please update jupyter and ipywidgets. See https://ipywidgets.readthedocs.io/en/stable/user_install.html\n",
      "  from .autonotebook import tqdm as notebook_tqdm\n"
     ]
    }
   ],
   "source": [
    "import os\n",
    "from dotenv import load_dotenv\n",
    "import google.generativeai as genai"
   ]
  },
  {
   "cell_type": "code",
   "execution_count": 2,
   "metadata": {},
   "outputs": [
    {
     "data": {
      "text/plain": [
       "True"
      ]
     },
     "execution_count": 2,
     "metadata": {},
     "output_type": "execute_result"
    }
   ],
   "source": [
    "load_dotenv('.env')"
   ]
  },
  {
   "cell_type": "markdown",
   "metadata": {},
   "source": [
    "## Exercício 1"
   ]
  },
  {
   "cell_type": "markdown",
   "metadata": {},
   "source": [
    "No prompt fornecido podemos identificar os seguintes princípios:\n",
    "\n",
    "1. Contexto e Persona: O contexto e a persona, \"um especialista em turismo\", fornecem informações que auxiliam o modelo a situar a resposta dentro de um cenário ou perspectiva específica. O contexto define o ambiente ou a situação, enquanto a persona pode ajustar o tom ou estilo da resposta com base em quem está respondendo.\n",
    "\n",
    "2. Tarefa Simples e Específica e Direcionamento: O prompt especifica claramente a tarefa a ser realizada, especificando com detalhes o que se espera da resposta do modelo: listar 3 atrações turísticas imperdíveis de Paris e fornecer uma breve descrição para cada uma.\n",
    "\n",
    "3. Formatação: é especificado um formato de saída do dado: \"listar\" e \"fornecer uma breve descrição para cada uma\".\n",
    "\n",
    "4. Exemplificação: foram fornecidos exemplos, também conhecido como few-shot prompting, para permitir que o modelo compeenda melhor o que é esperado dele: \n",
    "\n",
    "        \"Aqui está um exemplo do formato esperado:\n",
    "        Atração 1: Torre Eiffel\n",
    "        Descrição: Um dos monumentos mais icônicos do mundo, conhecido por sua estrutura de ferro e vista panorâmica da cidade.\"\n"
   ]
  },
  {
   "cell_type": "markdown",
   "metadata": {},
   "source": [
    "## Exercício 2"
   ]
  },
  {
   "cell_type": "markdown",
   "metadata": {},
   "source": [
    "### Cliente Tranquilo\n",
    "\n",
    "![Cliente Tranquilo](./images/2-poe-calm-client.png)"
   ]
  },
  {
   "cell_type": "markdown",
   "metadata": {},
   "source": [
    "### Cliente Agressivo\n",
    "\n",
    "![Cliente Agressivo](./images/2-poe-agressive-client.png)"
   ]
  },
  {
   "cell_type": "markdown",
   "metadata": {},
   "source": [
    "### Resposta"
   ]
  },
  {
   "cell_type": "markdown",
   "metadata": {},
   "source": [
    "O comportamento dos clientes nas diferentes situações saiu como esperado. O cliente mais tranquilo foi receptivo ao contato e mesmo não tendo fechado a proposta no momento, mostrou-se aberto à migração. Por sua vez, o cliente mais agressivo não foi receptivo ao contato, buscando o confilito ao invés de focar na proposta."
   ]
  },
  {
   "cell_type": "markdown",
   "metadata": {},
   "source": [
    "## Exercício 3"
   ]
  },
  {
   "cell_type": "markdown",
   "metadata": {},
   "source": [
    "### Mensagem\n",
    "\n",
    "![Mensagem Viagem](./images/3-mensagem-viagens.png)"
   ]
  },
  {
   "cell_type": "markdown",
   "metadata": {},
   "source": [
    "### Resposta\n",
    "\n",
    "O LLM respondeu sim como o esperado, inclusive retornando uma resposta muito bem feita e adequada ao caso, trazendo todos os itens solicitados no prompt, como por exemplo, o desconto oferecido e a data de validade da promoção, além de ter incorporado adequadamente a persona e o tom desejado.\n",
    "\n"
   ]
  },
  {
   "cell_type": "markdown",
   "metadata": {},
   "source": [
    "## Exercício 4"
   ]
  },
  {
   "cell_type": "markdown",
   "metadata": {},
   "source": [
    "### Prompt Sem Few-Shot\n",
    "\n",
    "![No Few](./images/4-no-few-shot.png)\n",
    "\n",
    "### Prompt Com Few-Shot\n",
    "\n",
    "![No Few](./images/4-few-shot.png)"
   ]
  },
  {
   "cell_type": "markdown",
   "metadata": {},
   "source": [
    "### Resposta\n",
    "\n",
    "Contrariando o esperado, o prompt com sem o few shot foi o mais eficaz uma vez que aparentemente o LLM não compreendeu que os few-shots tratavam-se de exemplos e que eu gostaria que ele tivesse gerado novos e não apenas reproduzido o que eu informei inicialmente."
   ]
  },
  {
   "cell_type": "markdown",
   "metadata": {},
   "source": [
    "## Exercício 5"
   ]
  },
  {
   "cell_type": "markdown",
   "metadata": {},
   "source": [
    "### Prompt Criado\n",
    "\n",
    "![Prompt Criado](./images/5%20-criar-prompt.png)"
   ]
  },
  {
   "cell_type": "markdown",
   "metadata": {},
   "source": [
    "### Prompt Retornado\n",
    "\n",
    "![Prompt Retornado](./images/5-lista-equipamentos.png)"
   ]
  },
  {
   "cell_type": "markdown",
   "metadata": {},
   "source": [
    "### Resposta\n",
    "\n",
    "O resultado atendeu parcialmente as expectativas, uma vez que não incluiu um monitor e nem periféricos. Ainda os preços retornados estão em dólares e não em reais, o ideal seria que o LLM identificasse o idioma portugues e trouxesse os resultados na moeda local. Outro ponto de inconsistência foi o valor dos equipamentos que está diferente do comercializado para alguns produtos, como por exemplo os processadores, mesmo quando comparado com valores em dolar em conversão direta ou acessando lojas nos Estados Unidos, todavia os equipamentos existem. Por fim, os equipamentos relacionaos parecem adequados a um computador de alto desempenho, nos levando a concluir que o problema ocorreu não no prompt criado inicialmente, mas na execução do mesmo pelo LLM posteriormente.\n",
    "\n"
   ]
  },
  {
   "cell_type": "markdown",
   "metadata": {},
   "source": [
    "## Exercício 6"
   ]
  },
  {
   "cell_type": "markdown",
   "metadata": {},
   "source": [
    "### Prompt Simples\n",
    "\n",
    "![Prompt Simples](./images/6-prompt-simples.png)"
   ]
  },
  {
   "cell_type": "markdown",
   "metadata": {},
   "source": [
    "### Prompt com Princípios\n",
    "\n",
    "![Prompt Princípios](./images/6-prompt-principios.png)"
   ]
  },
  {
   "cell_type": "markdown",
   "metadata": {},
   "source": [
    "### Resposta\n",
    "\n",
    "Entre um prompt e outro houve diferença entre as vantagens apresentadas pelo LLM nos 2 casos, com alguns pontos aparecendo em somente um deles.\n",
    "\n",
    "Outro ponto de observação foi que o resultado do prompt após a aplicação dos princípios foi mais preciso e claro na apresentação dos pontos, produzindo um conteúdo de melhor qualidade e mais específico, com mais detalhamento e precisão."
   ]
  },
  {
   "cell_type": "markdown",
   "metadata": {},
   "source": [
    "## Exercício 7"
   ]
  },
  {
   "cell_type": "markdown",
   "metadata": {},
   "source": [
    "### Código"
   ]
  },
  {
   "cell_type": "code",
   "execution_count": 9,
   "metadata": {},
   "outputs": [],
   "source": [
    "noticia = '''Segundo o departamento de combate a fraudes do Nubank, criminosos levam, em média, \n",
    "sete minutos para transferir para a conta de um laranja laranja e sacar o dinheiro obtido em golpes. \n",
    "Além disso, 70% dos clientes do banco caem em ações do tipo, apesar de alertas.\n",
    "As informações são de Fabiola Marchiori, vice-presidente de engenharia e gerente geral de combate \n",
    "a fraudes da instituição. \n",
    "Ela participou de um evento do Mobile Time sobre finanças. Marchiori ainda explicou que o Nubank \n",
    "tem mecanismos para atrasar transferências suspeitas, com suspensões que podem durar três horas \n",
    "ou até o dia seguinte.\n",
    "A executiva apontou a engenharia social como um fator determinante. Engenharia social é o nome \n",
    "dado a técnicas de manipulação para conseguir convencer as vítimas a colaborar com os golpistas. \n",
    "A vice-presidente considera que os golpes se tornaram uma questão de segurança pública geral e \n",
    "que este tipo de crime atinge qualquer classe social e idade.\n",
    "Os dados reunidos pelo Nubank corroboram o que outras instituições já observaram. Segundo a \n",
    "Federação Brasileira de Bancos (Febraban), os golpistas “espalham” o dinheiro das vítimas em \n",
    "muitas contas, de forma muito rápida.\n",
    "Por isso, a Febraban quer que o Mecanismo Especial de Devolução (MED) do Pix seja mais abrangente, \n",
    "com a possibilidade de bloquear os recursos financeiros em mais camadas. Assim, mesmo que o criminoso \n",
    "transfira o dinheiro para outra conta, esta quantia ainda poderia ser bloqueada.\n",
    "Estas alterações, porém, não resolveriam o problema dos saques. Uma vez que a quantia é retirada \n",
    "em espécie, não haveria como reverter a transferência.\n",
    "Além disso, os criminosos conseguem ser criativos a ponto de usar os próprios regulamentos de \n",
    "proteção para aplicar golpes. Recentemente, surgiu o golpe do Pix errado.\n",
    "Funciona assim: o criminoso faz um Pix para a vítima, entra em contato dizendo ser engano e \n",
    "pedindo a devolução do valor. Após receber o dinheiro de volta, ele faz uma reclamação formal \n",
    "ao banco, que usa o MED para retirar novamente o dinheiro da vítima e transferi-lo para o bandido.\n",
    "'''"
   ]
  },
  {
   "cell_type": "code",
   "execution_count": 14,
   "metadata": {},
   "outputs": [
    {
     "name": "stdout",
     "output_type": "stream",
     "text": [
      "O Nubank revela que criminosos transferem dinheiro de golpes para contas de laranjas em média em sete minutos, e 70% dos clientes do banco caem nesses golpes, apesar dos alertas, mostrando a crescente necessidade de medidas para combater a fraude no Pix. \n",
      "\n"
     ]
    }
   ],
   "source": [
    "api_key = os.getenv('GEMINI_KEY')\n",
    "genai.configure(api_key=api_key)\n",
    "model = genai.GenerativeModel(\"gemini-1.5-flash\")\n",
    "\n",
    "prompt = f'''resuma a <NOTICIA> em apenas uma sentença curta com os principais pontos da notícia.\n",
    "Aqui está um exemplo de resumo:\n",
    "<NOTICIA>\n",
    "\"A empresa X lançou um novo smartphone no mercado.\"\n",
    "###\n",
    "<RESUMO>\n",
    "\"A empresa X anunciou o lançamento de um novo smartphone, trazendo inovações tecnológicas e maior duração de bateria.\"\n",
    "\n",
    "Agora, faça o resumo da noticia abaixo:\n",
    "<NOTICIA>\n",
    "\"{noticia}\"\n",
    "###\n",
    "<RESUMO>\n",
    "'''\n",
    "\n",
    "response = model.generate_content(prompt)\n",
    "print(response.text)"
   ]
  },
  {
   "cell_type": "markdown",
   "metadata": {},
   "source": [
    "### Avaliação\n",
    "\n",
    "A formatação da saída não retornou como a desejada mas o objetivo de resumir a notícia em apenas uma sentença foi atingido, assim entendemos a expectativa como partialmente atendida."
   ]
  },
  {
   "cell_type": "markdown",
   "metadata": {},
   "source": [
    "## Exercício 8"
   ]
  },
  {
   "cell_type": "markdown",
   "metadata": {},
   "source": [
    "### Código"
   ]
  },
  {
   "cell_type": "code",
   "execution_count": 17,
   "metadata": {},
   "outputs": [],
   "source": [
    "noticia1 = \"\"\"\n",
    "A polícia do Capitólio, sede do Legislativo dos EUA, prendeu um homem que cheirava a combustível e \n",
    "portava uma tocha e um isqueiro na entrada do centro de visitação nesta terça (5), dia da eleição presidencial americana.\n",
    "Os agentes informaram que o homem foi detido durante o processo de verificação de segurança e que \n",
    "as visitas foram suspensas por todo o dia para investigação adicional do episódio.\n",
    "\"\"\"\n",
    "\n",
    "noticia2 = \"\"\"O governo Luiz Inácio Lula da Silva decidiu interromper, por tempo indeterminado, \n",
    "o envio de aviões da Força Aérea Brasileira (FAB) ao Líbano para repatriar brasileiros que desejam \n",
    "fugir do confronto entre Israel e o grupo extremista Hezbollah.\n",
    "Até esta quarta (5), dez voos fizeram o trajeto de ida e volta entre a capital do Líbano, Beirute, \n",
    "e o território brasileiro. Ao todo, 2.071 passageiros foram transportados, entre brasileiros e parentes de primeiro grau.\n",
    "No início da operação, o Ministério das Relações Exteriores informou que 3 mil brasileiros tinham \n",
    "demonstrado interesse em voltar ao país.\n",
    "Três brasileiros, todos menores de idade, morreram desde a escalada do conflito em outubro – \n",
    "incluindo uma bebê de 1 ano.\n",
    "Em mensagem divulgada por canal oficial, a Embaixada do Brasil no Líbano informou à \n",
    "comunidade local que não há data para a próxima viagem em voo da FAB.\n",
    "\"A realização de novo voo de repatriação dependerá da demanda por parte de pessoas \n",
    "que se enquadrem nas prioridades definidas em lei, como também das condições de segurança\", diz o Itamaraty.\n",
    "Na mesma mensagem, o governo informa que fez acordo com a Middle East Airlines \n",
    "para que brasileiros tenham prioridade de embarque para Madri (Espanha) e Frankfurt (Alemanha).\n",
    "\"Reserva e compra de bilhete cabem, naturalmente, aos interessados\", diz a \n",
    "Embaixada – deixando claro que o governo não vai mediar e nem custear essas passagens.\n",
    "\"A Embaixada do Brasil reitera a recomendação de que os nacionais residentes ou \n",
    "de passagem pelo Líbano deixem o país por meios próprios\", diz outra mensagem enviada aos brasileiros.\n",
    "Israel intensifica bombardeios no Líbano e na Faixa de Gaza\n",
    "Veja abaixo quantas pessoas foram repatriadas em cada voo da FAB:\n",
    "Primeiro voo: 229 pessoas;\n",
    "Segundo voo: 227 pessoas;\n",
    "Terceiro voo: 217 pessoas;\n",
    "Quarto voo: 211 pessoas;\n",
    "Quinto voo: 220 pessoas;\n",
    "Sexto voo: 212 pessoas;\n",
    "Sétimo voo: 82 pessoas;\n",
    "Oitavo voo: 239 pessoas.\n",
    "Nono voo: 221 pessoas\n",
    "Décimo: 213 pessoas\n",
    "Total: 2.071 passageiros\"\"\"\n",
    "\n",
    "noticia3 = \"\"\"\n",
    "O ministro da Defesa de Israel, Yoav Gallant, fala com o primeiro-ministro \n",
    "Benjamin Netanyahu, durante sessão do Parlamento em 24 de julho de 2023.\n",
    "O primeiro-ministro de Israel, Benjamin Netanyahu, demitiu o ministro da \n",
    "Defesa, Yoav Gallant, nesta terça-feira (5).\n",
    "Netanyahu afirmou que \"houve muitas lacunas entre ele e Gallant sobre a \n",
    "gestão das guerras de Israel\".\n",
    "O primeiro-ministro ainda disse que uma crise de confiança se \n",
    "desenvolveu entre ele e o até então ministro da Defesa, o que não permitiu a \"gestão normal da guerra\".\n",
    "Gallant se manifestou nas redes sociais após a demissão.\n",
    "\"A segurança do Estado de Israel foi e sempre será a missão da \n",
    "minha vida\", afirmou em publicação no X.\n",
    "Israel Katz, atual chanceler do país, foi nomeado para substituir \n",
    "Gallant no cargo. Gideon Saar deve assumir como ministro das Relações Exteriores.\n",
    "Netanyahu e Gallant têm se desentendido repetidamente sobre a \n",
    "guerra em Gaza. Mas Netanyahu evitou demitir seu rival.\n",
    "Nos primeiros dias da guerra, a liderança de Israel apresentou \n",
    "uma frente unificada ao responder ao ataque do Hamas em 7 de outubro \n",
    "de 2023. Mas, à medida que a guerra se arrastava e se espalhava para o \n",
    "Líbano, diferenças políticas importantes surgiram.\n",
    "Enquanto Netanyahu pediu pressão militar contínua sobre o Hamas, \n",
    "Gallant adotou uma abordagem mais pragmática, dizendo que a força militar criou as condições necessárias para um acordo diplomático que poderia trazer para casa os reféns mantidos pelo grupo militante.\n",
    "Uma tentativa anterior de Netanyahu de demitir Gallant em março \n",
    "de 2023 desencadeou protestos generalizados nas ruas contra Netanyahu. \n",
    "Ele também flertou com a ideia de demitir Gallant durante o verão, mas adiou até o anúncio de terça-feira.\n",
    "Em 7 de outubro de 2023, terroristas do Hamas atacaram a região sul de \n",
    "Israel e mataram 1,2 mil pessoas. Outras cerca de 250 foram feitas reféns, de acordo com contagens israelenses. Mais de 100 reféns continuam sendo mantidos em cárcere pelo Hamas.\n",
    "Segundo um balanço divulgado no início de outubro pelas Forças Armadas de \n",
    "Israel mostra que 782 soldados morreram em combate na guerra na Faixa de Gaza e nos ataques do grupo terrorista Hamas, ocorridos há um ano.\n",
    "No território palestino, quase 42 mil pessoas foram mortas pelas forças \n",
    "de Israel, segundo o Ministério da Saúde.\n",
    "Ataques israelenses matam mais de 30 na Faixa de Gaza\n",
    "\"\"\"\n"
   ]
  },
  {
   "cell_type": "code",
   "execution_count": null,
   "metadata": {},
   "outputs": [],
   "source": [
    "def identificar_entidades(noticia, api_key):\n",
    "    prompt = f\"\"\"\n",
    "    Como um especialista em jornalismo e geopolítica, \n",
    "    identifique e liste as entidades mencionadas na seguinte notícia. \n",
    "    As entidades podem incluir pessoas, órgãos públicos, empresas, dentre outras.\n",
    "    Aqui está a notícia:\n",
    "\n",
    "    {noticia}\n",
    "\n",
    "    Favor retornar o resultado formatado como no exemplo abaixo:\n",
    "\n",
    "    Entidades identificadas:\n",
    "    \n",
    "    Pessoas: Pessoa1, Pessoa2 - Órgãos Públicos: Orgão1, Orgão2 - Empresas: Empresa1, Empresa2 - Outros: Outro1, Outro2\n",
    "    \n",
    "    \"\"\"\n",
    "    genai.configure(api_key=api_key)\n",
    "    model = genai.GenerativeModel(\"gemini-1.5-flash\")\n",
    "    response = model.generate_content(prompt)\n",
    "    \n",
    "    return response.text"
   ]
  },
  {
   "cell_type": "code",
   "execution_count": 34,
   "metadata": {},
   "outputs": [
    {
     "data": {
      "text/plain": [
       "'Entidades identificadas:\\n\\nPessoas:  - \\nÓrgãos Públicos: Polícia do Capitólio, Legislativo dos EUA \\nEmpresas:  -\\nOutros: Tochas, Isqueiro, Centro de visitação, Eleição presidencial americana \\n'"
      ]
     },
     "execution_count": 34,
     "metadata": {},
     "output_type": "execute_result"
    }
   ],
   "source": [
    "identificar_entidades(noticia1, api_key)"
   ]
  },
  {
   "cell_type": "code",
   "execution_count": 35,
   "metadata": {},
   "outputs": [
    {
     "data": {
      "text/plain": [
       "'Entidades identificadas:\\n\\n**Pessoas:** Luiz Inácio Lula da Silva \\n\\n**Órgãos Públicos:** Governo do Brasil, Força Aérea Brasileira (FAB), Ministério das Relações Exteriores (Itamaraty), Embaixada do Brasil no Líbano \\n\\n**Empresas:** Middle East Airlines \\n\\n**Outros:** Hezbollah, Israel, Líbano, Faixa de Gaza, brasileiros, parentes de primeiro grau, bebê de 1 ano, comunidade local, passageiros \\n'"
      ]
     },
     "execution_count": 35,
     "metadata": {},
     "output_type": "execute_result"
    }
   ],
   "source": [
    "identificar_entidades(noticia2, api_key)"
   ]
  },
  {
   "cell_type": "code",
   "execution_count": 36,
   "metadata": {},
   "outputs": [
    {
     "data": {
      "text/plain": [
       "'Entidades identificadas:\\n\\n**Pessoas:** Yoav Gallant, Benjamin Netanyahu, Israel Katz, Gideon Saar,  \\n\\n**Órgãos Públicos:** Parlamento de Israel, Ministério da Defesa de Israel, Forças Armadas de Israel, Ministério da Saúde (Palestina),  \\n\\n**Empresas:**  \\n\\n**Outros:** Hamas,  X (Twitter), Estado de Israel, Faixa de Gaza, Líbano, Guerra em Gaza, Guerra de 2023 em Gaza, Reféns mantidos pelo Hamas,  \\n'"
      ]
     },
     "execution_count": 36,
     "metadata": {},
     "output_type": "execute_result"
    }
   ],
   "source": [
    "identificar_entidades(noticia3, api_key)"
   ]
  },
  {
   "cell_type": "markdown",
   "metadata": {},
   "source": [
    "### Resposta\n",
    "\n",
    "A resposta do modelo atendeu as espectativas da consultoria uma vez que como pode ser visto acima, identificou corretamente, para cada categoria, as entidades das notícias.\n"
   ]
  },
  {
   "cell_type": "markdown",
   "metadata": {},
   "source": [
    "## Exercício 9"
   ]
  },
  {
   "cell_type": "markdown",
   "metadata": {},
   "source": []
  }
 ],
 "metadata": {
  "kernelspec": {
   "display_name": ".venv",
   "language": "python",
   "name": "python3"
  },
  "language_info": {
   "codemirror_mode": {
    "name": "ipython",
    "version": 3
   },
   "file_extension": ".py",
   "mimetype": "text/x-python",
   "name": "python",
   "nbconvert_exporter": "python",
   "pygments_lexer": "ipython3",
   "version": "3.12.4"
  }
 },
 "nbformat": 4,
 "nbformat_minor": 2
}
