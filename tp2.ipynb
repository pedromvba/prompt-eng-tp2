{
 "cells": [
  {
   "cell_type": "markdown",
   "metadata": {},
   "source": [
    "# Teste de Performance 2\n",
    "\n",
    "Engenharia de Prompts para Ciência de Dados\n",
    "\n",
    "Pedro Monteiro Vieira Bayma Azevedo"
   ]
  },
  {
   "cell_type": "markdown",
   "metadata": {},
   "source": [
    "## Exercício 1"
   ]
  },
  {
   "cell_type": "markdown",
   "metadata": {},
   "source": [
    "No prompt fornecido podemos identificar os seguintes princípios:\n",
    "\n",
    "1. Contexto e Persona: O contexto e a persona, \"um especialista em turismo\", fornecem informações que auxiliam o modelo a situar a resposta dentro de um cenário ou perspectiva específica. O contexto define o ambiente ou a situação, enquanto a persona pode ajustar o tom ou estilo da resposta com base em quem está respondendo.\n",
    "\n",
    "2. Tarefa Simples e Específica e Direcionamento: O prompt especifica claramente a tarefa a ser realizada, especificando com detalhes o que se espera da resposta do modelo: listar 3 atrações turísticas imperdíveis de Paris e fornecer uma breve descrição para cada uma.\n",
    "\n",
    "3. Formatação: é especificado um formato de saída do dado: \"listar\" e \"fornecer uma breve descrição para cada uma\".\n",
    "\n",
    "4. Exemplificação: foram fornecidos exemplos, também conhecido como few-shot prompting, para permitir que o modelo compeenda melhor o que é esperado dele: \n",
    "\n",
    "        \"Aqui está um exemplo do formato esperado:\n",
    "        Atração 1: Torre Eiffel\n",
    "        Descrição: Um dos monumentos mais icônicos do mundo, conhecido por sua estrutura de ferro e vista panorâmica da cidade.\"\n"
   ]
  },
  {
   "cell_type": "markdown",
   "metadata": {},
   "source": [
    "## Exercício 2"
   ]
  },
  {
   "cell_type": "markdown",
   "metadata": {},
   "source": [
    "### Cliente Tranquilo\n",
    "\n",
    "![Cliente Tranquilo](./images/2-poe-calm-client.png)"
   ]
  },
  {
   "cell_type": "markdown",
   "metadata": {},
   "source": [
    "### Cliente Agressivo\n",
    "\n",
    "![Cliente Agressivo](./images/2-poe-agressive-client.png)"
   ]
  },
  {
   "cell_type": "markdown",
   "metadata": {},
   "source": [
    "### Resposta"
   ]
  },
  {
   "cell_type": "markdown",
   "metadata": {},
   "source": [
    "O comportamento dos clientes nas diferentes situações saiu como esperado. O cliente mais tranquilo foi receptivo ao contato e mesmo não tendo fechado a proposta no momento, mostrou-se aberto à migração. Por sua vez, o cliente mais agressivo não foi receptivo ao contato, buscando o confilito ao invés de focar na proposta."
   ]
  },
  {
   "cell_type": "markdown",
   "metadata": {},
   "source": [
    "## Exercício 3"
   ]
  },
  {
   "cell_type": "markdown",
   "metadata": {},
   "source": []
  }
 ],
 "metadata": {
  "language_info": {
   "name": "python"
  }
 },
 "nbformat": 4,
 "nbformat_minor": 2
}
