{
 "cells": [
  {
   "cell_type": "markdown",
   "metadata": {},
   "source": [
    "# Teste de Performance 2\n",
    "\n",
    "Engenharia de Prompts para Ciência de Dados\n",
    "\n",
    "Pedro Monteiro Vieira Bayma Azevedo"
   ]
  },
  {
   "cell_type": "markdown",
   "metadata": {},
   "source": [
    "## Imports"
   ]
  },
  {
   "cell_type": "code",
   "execution_count": 27,
   "metadata": {},
   "outputs": [],
   "source": [
    "import os\n",
    "from dotenv import load_dotenv\n",
    "import google.generativeai as genai\n",
    "import yaml\n",
    "import pandas as pd\n",
    "import json\n",
    "import matplotlib.pyplot as plt\n",
    "import seaborn as sns"
   ]
  },
  {
   "cell_type": "code",
   "execution_count": 2,
   "metadata": {},
   "outputs": [
    {
     "data": {
      "text/plain": [
       "True"
      ]
     },
     "execution_count": 2,
     "metadata": {},
     "output_type": "execute_result"
    }
   ],
   "source": [
    "load_dotenv('.env')"
   ]
  },
  {
   "cell_type": "markdown",
   "metadata": {},
   "source": [
    "## Exercício 1"
   ]
  },
  {
   "cell_type": "markdown",
   "metadata": {},
   "source": [
    "No prompt fornecido podemos identificar os seguintes princípios:\n",
    "\n",
    "1. Contexto e Persona: O contexto e a persona, \"um especialista em turismo\", fornecem informações que auxiliam o modelo a situar a resposta dentro de um cenário ou perspectiva específica. O contexto define o ambiente ou a situação, enquanto a persona pode ajustar o tom ou estilo da resposta com base em quem está respondendo.\n",
    "\n",
    "2. Tarefa Simples e Específica e Direcionamento: O prompt especifica claramente a tarefa a ser realizada, especificando com detalhes o que se espera da resposta do modelo: listar 3 atrações turísticas imperdíveis de Paris e fornecer uma breve descrição para cada uma.\n",
    "\n",
    "3. Formatação: é especificado um formato de saída do dado: \"listar\" e \"fornecer uma breve descrição para cada uma\".\n",
    "\n",
    "4. Exemplificação: foram fornecidos exemplos, também conhecido como few-shot prompting, para permitir que o modelo compeenda melhor o que é esperado dele: \n",
    "\n",
    "        \"Aqui está um exemplo do formato esperado:\n",
    "        Atração 1: Torre Eiffel\n",
    "        Descrição: Um dos monumentos mais icônicos do mundo, conhecido por sua estrutura de ferro e vista panorâmica da cidade.\"\n"
   ]
  },
  {
   "cell_type": "markdown",
   "metadata": {},
   "source": [
    "## Exercício 2"
   ]
  },
  {
   "cell_type": "markdown",
   "metadata": {},
   "source": [
    "### Cliente Tranquilo\n",
    "\n",
    "![Cliente Tranquilo](./images/2-poe-calm-client.png)"
   ]
  },
  {
   "cell_type": "markdown",
   "metadata": {},
   "source": [
    "### Cliente Agressivo\n",
    "\n",
    "![Cliente Agressivo](./images/2-poe-agressive-client.png)"
   ]
  },
  {
   "cell_type": "markdown",
   "metadata": {},
   "source": [
    "### Resposta"
   ]
  },
  {
   "cell_type": "markdown",
   "metadata": {},
   "source": [
    "O comportamento dos clientes nas diferentes situações saiu como esperado. O cliente mais tranquilo foi receptivo ao contato e mesmo não tendo fechado a proposta no momento, mostrou-se aberto à migração. Por sua vez, o cliente mais agressivo não foi receptivo ao contato, buscando o confilito ao invés de focar na proposta."
   ]
  },
  {
   "cell_type": "markdown",
   "metadata": {},
   "source": [
    "## Exercício 3"
   ]
  },
  {
   "cell_type": "markdown",
   "metadata": {},
   "source": [
    "### Mensagem\n",
    "\n",
    "![Mensagem Viagem](./images/3-mensagem-viagens.png)"
   ]
  },
  {
   "cell_type": "markdown",
   "metadata": {},
   "source": [
    "### Resposta\n",
    "\n",
    "O LLM respondeu sim como o esperado, inclusive retornando uma resposta muito bem feita e adequada ao caso, trazendo todos os itens solicitados no prompt, como por exemplo, o desconto oferecido e a data de validade da promoção, além de ter incorporado adequadamente a persona e o tom desejado.\n",
    "\n"
   ]
  },
  {
   "cell_type": "markdown",
   "metadata": {},
   "source": [
    "## Exercício 4"
   ]
  },
  {
   "cell_type": "markdown",
   "metadata": {},
   "source": [
    "### Prompt Sem Few-Shot\n",
    "\n",
    "![No Few](./images/4-no-few-shot.png)\n",
    "\n",
    "### Prompt Com Few-Shot\n",
    "\n",
    "![No Few](./images/4-few-shot.png)"
   ]
  },
  {
   "cell_type": "markdown",
   "metadata": {},
   "source": [
    "### Resposta\n",
    "\n",
    "Contrariando o esperado, o prompt com sem o few shot foi o mais eficaz uma vez que aparentemente o LLM não compreendeu que os few-shots tratavam-se de exemplos e que eu gostaria que ele tivesse gerado novos e não apenas reproduzido o que eu informei inicialmente."
   ]
  },
  {
   "cell_type": "markdown",
   "metadata": {},
   "source": [
    "## Exercício 5"
   ]
  },
  {
   "cell_type": "markdown",
   "metadata": {},
   "source": [
    "### Prompt Criado\n",
    "\n",
    "![Prompt Criado](./images/5%20-criar-prompt.png)"
   ]
  },
  {
   "cell_type": "markdown",
   "metadata": {},
   "source": [
    "### Prompt Retornado\n",
    "\n",
    "![Prompt Retornado](./images/5-lista-equipamentos.png)"
   ]
  },
  {
   "cell_type": "markdown",
   "metadata": {},
   "source": [
    "### Resposta\n",
    "\n",
    "O resultado atendeu parcialmente as expectativas, uma vez que não incluiu um monitor e nem periféricos. Ainda os preços retornados estão em dólares e não em reais, o ideal seria que o LLM identificasse o idioma portugues e trouxesse os resultados na moeda local. Outro ponto de inconsistência foi o valor dos equipamentos que está diferente do comercializado para alguns produtos, como por exemplo os processadores, mesmo quando comparado com valores em dolar em conversão direta ou acessando lojas nos Estados Unidos, todavia os equipamentos existem. Por fim, os equipamentos relacionaos parecem adequados a um computador de alto desempenho, nos levando a concluir que o problema ocorreu não no prompt criado inicialmente, mas na execução do mesmo pelo LLM posteriormente.\n",
    "\n"
   ]
  },
  {
   "cell_type": "markdown",
   "metadata": {},
   "source": [
    "## Exercício 6"
   ]
  },
  {
   "cell_type": "markdown",
   "metadata": {},
   "source": [
    "### Prompt Simples\n",
    "\n",
    "![Prompt Simples](./images/6-prompt-simples.png)"
   ]
  },
  {
   "cell_type": "markdown",
   "metadata": {},
   "source": [
    "### Prompt com Princípios\n",
    "\n",
    "![Prompt Princípios](./images/6-prompt-principios.png)"
   ]
  },
  {
   "cell_type": "markdown",
   "metadata": {},
   "source": [
    "### Resposta\n",
    "\n",
    "Entre um prompt e outro houve diferença entre as vantagens apresentadas pelo LLM nos 2 casos, com alguns pontos aparecendo em somente um deles.\n",
    "\n",
    "Outro ponto de observação foi que o resultado do prompt após a aplicação dos princípios foi mais preciso e claro na apresentação dos pontos, produzindo um conteúdo de melhor qualidade e mais específico, com mais detalhamento e precisão."
   ]
  },
  {
   "cell_type": "markdown",
   "metadata": {},
   "source": [
    "## Exercício 7"
   ]
  },
  {
   "cell_type": "markdown",
   "metadata": {},
   "source": [
    "### Código"
   ]
  },
  {
   "cell_type": "code",
   "execution_count": 3,
   "metadata": {},
   "outputs": [],
   "source": [
    "noticia = '''Segundo o departamento de combate a fraudes do Nubank, criminosos levam, em média, \n",
    "sete minutos para transferir para a conta de um laranja laranja e sacar o dinheiro obtido em golpes. \n",
    "Além disso, 70% dos clientes do banco caem em ações do tipo, apesar de alertas.\n",
    "As informações são de Fabiola Marchiori, vice-presidente de engenharia e gerente geral de combate \n",
    "a fraudes da instituição. \n",
    "Ela participou de um evento do Mobile Time sobre finanças. Marchiori ainda explicou que o Nubank \n",
    "tem mecanismos para atrasar transferências suspeitas, com suspensões que podem durar três horas \n",
    "ou até o dia seguinte.\n",
    "A executiva apontou a engenharia social como um fator determinante. Engenharia social é o nome \n",
    "dado a técnicas de manipulação para conseguir convencer as vítimas a colaborar com os golpistas. \n",
    "A vice-presidente considera que os golpes se tornaram uma questão de segurança pública geral e \n",
    "que este tipo de crime atinge qualquer classe social e idade.\n",
    "Os dados reunidos pelo Nubank corroboram o que outras instituições já observaram. Segundo a \n",
    "Federação Brasileira de Bancos (Febraban), os golpistas “espalham” o dinheiro das vítimas em \n",
    "muitas contas, de forma muito rápida.\n",
    "Por isso, a Febraban quer que o Mecanismo Especial de Devolução (MED) do Pix seja mais abrangente, \n",
    "com a possibilidade de bloquear os recursos financeiros em mais camadas. Assim, mesmo que o criminoso \n",
    "transfira o dinheiro para outra conta, esta quantia ainda poderia ser bloqueada.\n",
    "Estas alterações, porém, não resolveriam o problema dos saques. Uma vez que a quantia é retirada \n",
    "em espécie, não haveria como reverter a transferência.\n",
    "Além disso, os criminosos conseguem ser criativos a ponto de usar os próprios regulamentos de \n",
    "proteção para aplicar golpes. Recentemente, surgiu o golpe do Pix errado.\n",
    "Funciona assim: o criminoso faz um Pix para a vítima, entra em contato dizendo ser engano e \n",
    "pedindo a devolução do valor. Após receber o dinheiro de volta, ele faz uma reclamação formal \n",
    "ao banco, que usa o MED para retirar novamente o dinheiro da vítima e transferi-lo para o bandido.\n",
    "'''"
   ]
  },
  {
   "cell_type": "code",
   "execution_count": 4,
   "metadata": {},
   "outputs": [
    {
     "name": "stdout",
     "output_type": "stream",
     "text": [
      "O Nubank revelou que criminosos levam em média sete minutos para transferir dinheiro de golpes para contas de \"laranjas\" e sacar, e 70% dos clientes do banco são vítimas, apesar de alertas, com a engenharia social sendo um fator chave. \n",
      "\n"
     ]
    }
   ],
   "source": [
    "api_key = os.getenv('GEMINI_KEY')\n",
    "genai.configure(api_key=api_key)\n",
    "model = genai.GenerativeModel(\"gemini-1.5-flash\")\n",
    "\n",
    "prompt = f'''resuma a <NOTICIA> em apenas uma sentença curta com os principais pontos da notícia.\n",
    "Aqui está um exemplo de resumo:\n",
    "<NOTICIA>\n",
    "\"A empresa X lançou um novo smartphone no mercado.\"\n",
    "###\n",
    "<RESUMO>\n",
    "\"A empresa X anunciou o lançamento de um novo smartphone, trazendo inovações tecnológicas e maior duração de bateria.\"\n",
    "\n",
    "Agora, faça o resumo da noticia abaixo:\n",
    "<NOTICIA>\n",
    "\"{noticia}\"\n",
    "###\n",
    "<RESUMO>\n",
    "'''\n",
    "\n",
    "response = model.generate_content(prompt)\n",
    "print(response.text)"
   ]
  },
  {
   "cell_type": "markdown",
   "metadata": {},
   "source": [
    "### Avaliação\n",
    "\n",
    "A formatação da saída não retornou como a desejada mas o objetivo de resumir a notícia em apenas uma sentença foi atingido, assim entendemos a expectativa como partialmente atendida."
   ]
  },
  {
   "cell_type": "markdown",
   "metadata": {},
   "source": [
    "## Exercício 8"
   ]
  },
  {
   "cell_type": "markdown",
   "metadata": {},
   "source": [
    "### Código"
   ]
  },
  {
   "cell_type": "code",
   "execution_count": 5,
   "metadata": {},
   "outputs": [],
   "source": [
    "noticia1 = \"\"\"\n",
    "A polícia do Capitólio, sede do Legislativo dos EUA, prendeu um homem que cheirava a combustível e \n",
    "portava uma tocha e um isqueiro na entrada do centro de visitação nesta terça (5), dia da eleição presidencial americana.\n",
    "Os agentes informaram que o homem foi detido durante o processo de verificação de segurança e que \n",
    "as visitas foram suspensas por todo o dia para investigação adicional do episódio.\n",
    "\"\"\"\n",
    "\n",
    "noticia2 = \"\"\"O governo Luiz Inácio Lula da Silva decidiu interromper, por tempo indeterminado, \n",
    "o envio de aviões da Força Aérea Brasileira (FAB) ao Líbano para repatriar brasileiros que desejam \n",
    "fugir do confronto entre Israel e o grupo extremista Hezbollah.\n",
    "Até esta quarta (5), dez voos fizeram o trajeto de ida e volta entre a capital do Líbano, Beirute, \n",
    "e o território brasileiro. Ao todo, 2.071 passageiros foram transportados, entre brasileiros e parentes de primeiro grau.\n",
    "No início da operação, o Ministério das Relações Exteriores informou que 3 mil brasileiros tinham \n",
    "demonstrado interesse em voltar ao país.\n",
    "Três brasileiros, todos menores de idade, morreram desde a escalada do conflito em outubro – \n",
    "incluindo uma bebê de 1 ano.\n",
    "Em mensagem divulgada por canal oficial, a Embaixada do Brasil no Líbano informou à \n",
    "comunidade local que não há data para a próxima viagem em voo da FAB.\n",
    "\"A realização de novo voo de repatriação dependerá da demanda por parte de pessoas \n",
    "que se enquadrem nas prioridades definidas em lei, como também das condições de segurança\", diz o Itamaraty.\n",
    "Na mesma mensagem, o governo informa que fez acordo com a Middle East Airlines \n",
    "para que brasileiros tenham prioridade de embarque para Madri (Espanha) e Frankfurt (Alemanha).\n",
    "\"Reserva e compra de bilhete cabem, naturalmente, aos interessados\", diz a \n",
    "Embaixada – deixando claro que o governo não vai mediar e nem custear essas passagens.\n",
    "\"A Embaixada do Brasil reitera a recomendação de que os nacionais residentes ou \n",
    "de passagem pelo Líbano deixem o país por meios próprios\", diz outra mensagem enviada aos brasileiros.\n",
    "Israel intensifica bombardeios no Líbano e na Faixa de Gaza\n",
    "Veja abaixo quantas pessoas foram repatriadas em cada voo da FAB:\n",
    "Primeiro voo: 229 pessoas;\n",
    "Segundo voo: 227 pessoas;\n",
    "Terceiro voo: 217 pessoas;\n",
    "Quarto voo: 211 pessoas;\n",
    "Quinto voo: 220 pessoas;\n",
    "Sexto voo: 212 pessoas;\n",
    "Sétimo voo: 82 pessoas;\n",
    "Oitavo voo: 239 pessoas.\n",
    "Nono voo: 221 pessoas\n",
    "Décimo: 213 pessoas\n",
    "Total: 2.071 passageiros\"\"\"\n",
    "\n",
    "noticia3 = \"\"\"\n",
    "O ministro da Defesa de Israel, Yoav Gallant, fala com o primeiro-ministro \n",
    "Benjamin Netanyahu, durante sessão do Parlamento em 24 de julho de 2023.\n",
    "O primeiro-ministro de Israel, Benjamin Netanyahu, demitiu o ministro da \n",
    "Defesa, Yoav Gallant, nesta terça-feira (5).\n",
    "Netanyahu afirmou que \"houve muitas lacunas entre ele e Gallant sobre a \n",
    "gestão das guerras de Israel\".\n",
    "O primeiro-ministro ainda disse que uma crise de confiança se \n",
    "desenvolveu entre ele e o até então ministro da Defesa, o que não permitiu a \"gestão normal da guerra\".\n",
    "Gallant se manifestou nas redes sociais após a demissão.\n",
    "\"A segurança do Estado de Israel foi e sempre será a missão da \n",
    "minha vida\", afirmou em publicação no X.\n",
    "Israel Katz, atual chanceler do país, foi nomeado para substituir \n",
    "Gallant no cargo. Gideon Saar deve assumir como ministro das Relações Exteriores.\n",
    "Netanyahu e Gallant têm se desentendido repetidamente sobre a \n",
    "guerra em Gaza. Mas Netanyahu evitou demitir seu rival.\n",
    "Nos primeiros dias da guerra, a liderança de Israel apresentou \n",
    "uma frente unificada ao responder ao ataque do Hamas em 7 de outubro \n",
    "de 2023. Mas, à medida que a guerra se arrastava e se espalhava para o \n",
    "Líbano, diferenças políticas importantes surgiram.\n",
    "Enquanto Netanyahu pediu pressão militar contínua sobre o Hamas, \n",
    "Gallant adotou uma abordagem mais pragmática, dizendo que a força militar criou as condições necessárias para um acordo diplomático que poderia trazer para casa os reféns mantidos pelo grupo militante.\n",
    "Uma tentativa anterior de Netanyahu de demitir Gallant em março \n",
    "de 2023 desencadeou protestos generalizados nas ruas contra Netanyahu. \n",
    "Ele também flertou com a ideia de demitir Gallant durante o verão, mas adiou até o anúncio de terça-feira.\n",
    "Em 7 de outubro de 2023, terroristas do Hamas atacaram a região sul de \n",
    "Israel e mataram 1,2 mil pessoas. Outras cerca de 250 foram feitas reféns, de acordo com contagens israelenses. Mais de 100 reféns continuam sendo mantidos em cárcere pelo Hamas.\n",
    "Segundo um balanço divulgado no início de outubro pelas Forças Armadas de \n",
    "Israel mostra que 782 soldados morreram em combate na guerra na Faixa de Gaza e nos ataques do grupo terrorista Hamas, ocorridos há um ano.\n",
    "No território palestino, quase 42 mil pessoas foram mortas pelas forças \n",
    "de Israel, segundo o Ministério da Saúde.\n",
    "Ataques israelenses matam mais de 30 na Faixa de Gaza\n",
    "\"\"\"\n"
   ]
  },
  {
   "cell_type": "code",
   "execution_count": 6,
   "metadata": {},
   "outputs": [],
   "source": [
    "def identificar_entidades(noticia, api_key):\n",
    "    prompt = f\"\"\"\n",
    "    Como um especialista em jornalismo e geopolítica, \n",
    "    identifique e liste as entidades mencionadas na seguinte notícia. \n",
    "    As entidades podem incluir pessoas, órgãos públicos, empresas, dentre outras.\n",
    "    Aqui está a notícia:\n",
    "\n",
    "    {noticia}\n",
    "\n",
    "    Favor retornar o resultado formatado como no exemplo abaixo:\n",
    "\n",
    "    Entidades identificadas:\n",
    "    \n",
    "    Pessoas: Pessoa1, Pessoa2 - Órgãos Públicos: Orgão1, Orgão2 - Empresas: Empresa1, Empresa2 - Outros: Outro1, Outro2\n",
    "    \n",
    "    \"\"\"\n",
    "    genai.configure(api_key=api_key)\n",
    "    model = genai.GenerativeModel(\"gemini-1.5-flash\")\n",
    "    response = model.generate_content(prompt)\n",
    "    \n",
    "    return response.text"
   ]
  },
  {
   "cell_type": "code",
   "execution_count": 7,
   "metadata": {},
   "outputs": [
    {
     "data": {
      "text/plain": [
       "'Entidades identificadas:\\n\\n* **Pessoas:** Homem (não identificado)\\n* **Órgãos Públicos:** Polícia do Capitólio (EUA), Legislativo dos EUA\\n* **Empresas:** Nenhuma\\n* **Outros:** Centro de visitação (Capitólio), Tocha, Isqueiro, Eleição presidencial americana \\n'"
      ]
     },
     "execution_count": 7,
     "metadata": {},
     "output_type": "execute_result"
    }
   ],
   "source": [
    "identificar_entidades(noticia1, api_key)"
   ]
  },
  {
   "cell_type": "code",
   "execution_count": 8,
   "metadata": {},
   "outputs": [
    {
     "data": {
      "text/plain": [
       "'## Entidades identificadas:\\n\\n**Pessoas:** Luiz Inácio Lula da Silva \\n\\n**Órgãos Públicos:** \\n\\n* Governo do Brasil\\n* Ministério das Relações Exteriores (Itamaraty)\\n* Força Aérea Brasileira (FAB)\\n* Embaixada do Brasil no Líbano\\n\\n**Empresas:** \\n\\n* Middle East Airlines\\n\\n**Outros:**\\n\\n* Hezbollah\\n* Israel\\n* Líbano\\n* Faixa de Gaza\\n* Beirute\\n* Madri (Espanha)\\n* Frankfurt (Alemanha) \\n'"
      ]
     },
     "execution_count": 8,
     "metadata": {},
     "output_type": "execute_result"
    }
   ],
   "source": [
    "identificar_entidades(noticia2, api_key)"
   ]
  },
  {
   "cell_type": "code",
   "execution_count": 9,
   "metadata": {},
   "outputs": [
    {
     "data": {
      "text/plain": [
       "'Entidades identificadas:\\n\\n**Pessoas:** Yoav Gallant, Benjamin Netanyahu, Israel Katz, Gideon Saar \\n\\n**Órgãos Públicos:** Ministério da Defesa de Israel, Parlamento de Israel, Forças Armadas de Israel, Ministério da Saúde de Israel\\n\\n**Empresas:**  X (plataforma de mídia social) \\n\\n**Outros:** Hamas, Estado de Israel, Faixa de Gaza, Líbano, guerra em Gaza,  ataque do Hamas, reféns,  protestos,  sessão do Parlamento \\n'"
      ]
     },
     "execution_count": 9,
     "metadata": {},
     "output_type": "execute_result"
    }
   ],
   "source": [
    "identificar_entidades(noticia3, api_key)"
   ]
  },
  {
   "cell_type": "markdown",
   "metadata": {},
   "source": [
    "### Resposta\n",
    "\n",
    "A resposta do modelo atendeu as espectativas da consultoria uma vez que como pode ser visto acima, identificou corretamente, para cada categoria, as entidades das notícias.\n"
   ]
  },
  {
   "cell_type": "markdown",
   "metadata": {},
   "source": [
    "## Exercício 9"
   ]
  },
  {
   "cell_type": "markdown",
   "metadata": {},
   "source": [
    "Tokens podem ser considerados em diferentes tamanhos, variando desde caracteres até palavra ou frases por inteiro. De acordo com a [documentação](https://ai.google.dev/gemini-api/docs/tokens?lang=python) da API do Gemini, um token é equivalente a aproximadamente 4 caracteres, fazendo com que 100 tokens sejam aproximadamente 60 a 80 palavras no idioma inglês. Assim, é esperado que um texto de 5000 palavras utilize por volta de 7150 tokens.\n",
    "\n",
    "Essa dinâmica é importante de ser compreendida uma vez que os limites de uso e os custos de se utilizar o serviço do Google de LLMs Gemini são calculados em quantidade de tokens como pode ser observado na imagem abaixo:\n",
    "\n",
    "![Gemini Costs](./images/9-gemini-costs.png)\n",
    "\n",
    "Outro ponto importante de se compreender essa dinâmica é com relação a janela de contexto que é medida também pelo número de tokens, e que determina o número máximo de tokens que modelo pode processar em uma única interação, considerando tanto o prompt de entrada quanto de saída. Essa janela varia de modelo para modelo. Quanto maior o prompt, ou seja, mais próximo do limite da janela, maior a latência no processamento, bem como a possibilidade do modelo não compreender o que está sendo solicitado.\n",
    "\n",
    "A API do Google Gemini permite que você conte os tokens antes de enviar o prompt para processamento de forma a estimar os custos. Abaixo segue exemplo do procedimento que envolveu a contagem de um texto com 250 palavras de forma a estimar o número de caracteres de um texto com 5000 palavras. Conforme pode ser verificado, a estimativa obtida foi muito próxima daquela feita acima com apoio da documentação da API. Para o texto de 250 palavras obtivemos 364 tokens, assim par aum texto de 5000 palavras a estimativa seria 7280 tokens.\n"
   ]
  },
  {
   "cell_type": "code",
   "execution_count": 10,
   "metadata": {},
   "outputs": [],
   "source": [
    "text_with_250 = \"\"\"\n",
    "Artificial intelligence (AI) has revolutionized various industries, offering unprecedented \n",
    "opportunities for innovation and efficiency. One of the most significant impacts of AI is in \n",
    "the field of healthcare. AI-powered systems can analyze vast amounts of medical data to \n",
    "identify patterns and predict outcomes, enabling early diagnosis and personalized treatment \n",
    "plans. This not only improves patient outcomes but also reduces the burden on healthcare professionals.\n",
    "In the realm of finance, AI algorithms are transforming how we manage and invest money. Automated \n",
    "trading systems can process market data at lightning speed, making split-second decisions that \n",
    "maximize returns. Additionally, AI-driven risk assessment tools help financial institutions identify \n",
    "potential threats and mitigate them before they escalate.\n",
    "The retail industry is also benefiting from AI advancements. Personalized shopping experiences, \n",
    "powered by AI, enhance customer satisfaction and loyalty. By analyzing customer behavior and preferences, \n",
    "AI systems can recommend products that are more likely to be purchased, increasing sales and revenue for businesses.\n",
    "Moreover, AI is playing a crucial role in environmental conservation. Machine learning models can predict \n",
    "natural disasters, monitor wildlife populations, and optimize resource management. These applications are \n",
    "essential for addressing climate change and preserving biodiversity.\n",
    "Despite these advancements, the integration of AI into various sectors raises ethical and societal concerns. \n",
    "Issues such as data privacy, algorithmic bias, and job displacement need to be addressed to ensure that \n",
    "AI benefits all of society. As we continue to develop and deploy AI technologies, it is crucial to \n",
    "establish frameworks that promote transparency, accountability, and fairness.\n",
    "In conclusion, AI is a powerful tool that has the potential to transform industries and improve lives. However, \n",
    "it is essential to navigate its challenges responsibly to harness its full potential.\n",
    "\"\"\""
   ]
  },
  {
   "cell_type": "code",
   "execution_count": 11,
   "metadata": {},
   "outputs": [
    {
     "name": "stdout",
     "output_type": "stream",
     "text": [
      "total_tokens: 364\n",
      "\n"
     ]
    }
   ],
   "source": [
    "model = genai.GenerativeModel(\"models/gemini-1.5-flash\")\n",
    "prompt = text_with_250\n",
    "\n",
    "# Call `count_tokens` to get the input token count (`total_tokens`).\n",
    "print(model.count_tokens(prompt))"
   ]
  },
  {
   "cell_type": "markdown",
   "metadata": {},
   "source": [
    "## Exercício 10"
   ]
  },
  {
   "cell_type": "markdown",
   "metadata": {},
   "source": [
    "### Sem Role Prompting\n",
    "\n",
    "![Sem Role](./images/10-sem-role.png)"
   ]
  },
  {
   "cell_type": "markdown",
   "metadata": {},
   "source": [
    "### Com Role Prompting\n",
    "\n",
    "![Com Role](./images/10-com-role.png)"
   ]
  },
  {
   "cell_type": "markdown",
   "metadata": {},
   "source": [
    "### Resposta\n",
    "\n",
    "As duas respostas do modelo foram bem similares, com a segunda que utilizou o role prompt sendo um pouco mais específica como se realmente fosse alguém especializado. Todavia, não identifiquei uso de linguagem mais jurídica, tampouco citação de leis e normas sobre o tema. Em que pese o prompt de retorno ser adequado, há espaço para melhoria de forma a deixar a resposta de saída mais próxima do role que se espera, como por exemplo com a solicitação do uso de linguagem jurídica e de referenciamento em normas do arcabouço jurídico."
   ]
  },
  {
   "cell_type": "markdown",
   "metadata": {},
   "source": [
    "## Exercício 11"
   ]
  },
  {
   "cell_type": "code",
   "execution_count": 12,
   "metadata": {},
   "outputs": [
    {
     "data": {
      "text/plain": [
       "{'roteiro': {'atenas': 'Como um especialista em turismo,  liste 3 pontos turísticos imperdíveis  de Atenas, o número anual de visitantes, retornando apenas o número e  forneça uma breve descrição para cada um.\\n',\n",
       "  'roma': 'Como um especialista em turismo,  liste 3 pontos turísticos  imperdíveis de Roma,  o número anual de visitantes, retornando apenas o número, e  forneça uma breve descrição para cada um.'}}"
      ]
     },
     "execution_count": 12,
     "metadata": {},
     "output_type": "execute_result"
    }
   ],
   "source": [
    "with open('turism.yaml', 'r') as file:\n",
    "    turism = yaml.safe_load(file)\n",
    "\n",
    "turism"
   ]
  },
  {
   "cell_type": "markdown",
   "metadata": {},
   "source": [
    "### Atenas"
   ]
  },
  {
   "cell_type": "code",
   "execution_count": 13,
   "metadata": {},
   "outputs": [
    {
     "name": "stdout",
     "output_type": "stream",
     "text": [
      "## Atenas: 3 Pontos Turísticos Imperdíveis \n",
      "\n",
      "**1. Acrópole de Atenas:** \n",
      "* **Número de visitantes:**  **7,5 milhões**\n",
      "* **Descrição:** Um dos monumentos mais icônicos da Grécia Antiga,  a Acrópole é um complexo de templos e edifícios antigos,  construídos em uma colina rochosa, com vistas panorâmicas da cidade. O ponto principal é o Partenon, um templo dedicado à deusa Atena,  que é considerado uma das maiores obras-primas da arquitetura clássica.\n",
      "\n",
      "**2. Ágora Antiga:**\n",
      "* **Número de visitantes:** **1 milhão**\n",
      "* **Descrição:**  Um antigo mercado e centro da vida política e social em Atenas, a Ágora Antiga abriga ruínas de edifícios públicos, templos e casas, oferecendo uma visão fascinante da vida na Atenas Antiga.  \n",
      "\n",
      "**3. Museu da Acrópole:**\n",
      "* **Número de visitantes:** **1,5 milhões**\n",
      "* **Descrição:**  Um museu moderno que abriga artefatos e esculturas da Acrópole,  incluindo as famosas cariátides. As exibições contam a história da construção e desenvolvimento do monumento, além de mostrar a arte e a cultura da Grécia Antiga. \n",
      "\n"
     ]
    }
   ],
   "source": [
    "api_key = os.getenv('GEMINI_KEY')\n",
    "genai.configure(api_key=api_key)\n",
    "model = genai.GenerativeModel(\"gemini-1.5-flash\")\n",
    "\n",
    "prompt = turism['roteiro']['atenas']\n",
    "\n",
    "response = model.generate_content(prompt)\n",
    "print(response.text)"
   ]
  },
  {
   "cell_type": "markdown",
   "metadata": {},
   "source": [
    "### Roma"
   ]
  },
  {
   "cell_type": "code",
   "execution_count": 14,
   "metadata": {},
   "outputs": [
    {
     "name": "stdout",
     "output_type": "stream",
     "text": [
      "## Roma: Três Pontos Turísticos Imperdíveis\n",
      "\n",
      "**1. Coliseu:** \n",
      "\n",
      "* **Número de visitantes:** 7,4 milhões (2019)\n",
      "* **Descrição:** Um anfiteatro romano construído no século I d.C., que sediou combates de gladiadores, caça de animais e outros espetáculos grandiosos. É um dos monumentos mais icônicos da cidade e um símbolo do poder do Império Romano.\n",
      "\n",
      "**2. Fórum Romano e Palatino:**\n",
      "\n",
      "* **Número de visitantes:** 3,5 milhões (2019)\n",
      "* **Descrição:** O centro político e social de Roma durante a época do Império Romano, abrigando templos, basílicas e edifícios públicos. O Palatino, uma das sete colinas de Roma, abriga os restos de casas romanas luxuosas e palácios imperiais.\n",
      "\n",
      "**3.  Museus do Vaticano:**\n",
      "\n",
      "* **Número de visitantes:** 6,4 milhões (2019)\n",
      "* **Descrição:** Um complexo de museus que abriga uma das maiores e mais importantes coleções de arte do mundo. A Capela Sistina, com seus afrescos de Michelangelo, é um destaque absoluto, além de outras obras-primas de artistas renomados. \n",
      "\n"
     ]
    }
   ],
   "source": [
    "api_key = os.getenv('GEMINI_KEY')\n",
    "genai.configure(api_key=api_key)\n",
    "model = genai.GenerativeModel(\"gemini-1.5-flash\")\n",
    "\n",
    "prompt = turism['roteiro']['roma']\n",
    "\n",
    "response = model.generate_content(prompt)\n",
    "print(response.text)"
   ]
  },
  {
   "cell_type": "markdown",
   "metadata": {},
   "source": [
    "### Resposta\n",
    "\n",
    "O prompt retornado foi de acordo com o solicitado, sendo os pontos turísticos apresentados relevantes, bem como as descrições e o formato solicitado"
   ]
  },
  {
   "cell_type": "markdown",
   "metadata": {},
   "source": [
    "## Exercício 12"
   ]
  },
  {
   "cell_type": "markdown",
   "metadata": {},
   "source": [
    "### Atenas"
   ]
  },
  {
   "cell_type": "code",
   "execution_count": 18,
   "metadata": {},
   "outputs": [
    {
     "name": "stdout",
     "output_type": "stream",
     "text": [
      "{\n",
      "\"pontos_turisticos\": [\n",
      "{\n",
      "\"nome\": \"Acrópole\",\n",
      "\"visitantes_anuais\": 7000000,\n",
      "\"descricao\": \"Um antigo sítio arqueológico que abriga os monumentos icônicos da Grécia Antiga, incluindo o Parthenon.\"\n",
      "},\n",
      "{\n",
      "\"nome\": \"Museu da Acrópole\",\n",
      "\"visitantes_anuais\": 1400000,\n",
      "\"descricao\": \"Um museu que exibe artefatos e esculturas encontradas na Acrópole, oferecendo insights sobre a história e a cultura da Grécia Antiga.\"\n",
      "},\n",
      "{\n",
      "\"nome\": \"Agorá Antiga\",\n",
      "\"visitantes_anuais\": 500000,\n",
      "\"descricao\": \"O antigo mercado e centro cívico de Atenas, com ruínas de templos, edifícios públicos e casas.\"\n",
      "}\n",
      "]\n",
      "} \n",
      "\n"
     ]
    }
   ],
   "source": [
    "api_key = os.getenv('GEMINI_KEY')\n",
    "genai.configure(api_key=api_key)\n",
    "model = genai.GenerativeModel(\"gemini-1.5-flash\")\n",
    "\n",
    "prompt = turism['roteiro']['atenas']\n",
    "\n",
    "response = model.generate_content(prompt + \"\"\"O resultado final deve ser um objeto JSON sem nenhum \n",
    "                                  outro texto a não ser os dados solicitados no seguinte formato:\n",
    "                                  {\n",
    "\"pontos_turisticos\": [\n",
    "{\n",
    "\"nome\": \"Acrópole\",\n",
    "\"visitantes_anuais\": 3000000,\n",
    "\"descricao\": \"Um antigo sítio arqueológico que abriga os monumentos icônicos da Grécia Antiga, incluindo o Parthenon.\"\n",
    "},\n",
    "{\n",
    "\"nome\": \"Fórum Romano\",\n",
    "\"visitantes_anuais\": 1000000,\n",
    "\"descricao\": \"Restos de um antigo fórum romano, com ruínas de templos, basílica e outras estruturas.\"\n",
    "},\n",
    "{\n",
    "\"nome\": \"Museu da Acrópole\",\n",
    "\"visitantes_anuais\": 1500000,\n",
    "\"descricao\": \"Um museu que exibe artefatos e esculturas encontradas na Acrópole, oferecendo insights sobre a história e a cultura da Grécia Antiga.\"\n",
    "}\n",
    "]\n",
    "}\n",
    "                                  \"\"\")\n",
    "print(response.text)"
   ]
  },
  {
   "cell_type": "code",
   "execution_count": 19,
   "metadata": {},
   "outputs": [
    {
     "data": {
      "text/plain": [
       "{'pontos_turisticos': [{'nome': 'Acrópole',\n",
       "   'visitantes_anuais': 7000000,\n",
       "   'descricao': 'Um antigo sítio arqueológico que abriga os monumentos icônicos da Grécia Antiga, incluindo o Parthenon.'},\n",
       "  {'nome': 'Museu da Acrópole',\n",
       "   'visitantes_anuais': 1400000,\n",
       "   'descricao': 'Um museu que exibe artefatos e esculturas encontradas na Acrópole, oferecendo insights sobre a história e a cultura da Grécia Antiga.'},\n",
       "  {'nome': 'Agorá Antiga',\n",
       "   'visitantes_anuais': 500000,\n",
       "   'descricao': 'O antigo mercado e centro cívico de Atenas, com ruínas de templos, edifícios públicos e casas.'}]}"
      ]
     },
     "execution_count": 19,
     "metadata": {},
     "output_type": "execute_result"
    }
   ],
   "source": [
    "response_json = json.loads(response.text)\n",
    "response_json"
   ]
  },
  {
   "cell_type": "code",
   "execution_count": 21,
   "metadata": {},
   "outputs": [
    {
     "data": {
      "text/html": [
       "<div>\n",
       "<style scoped>\n",
       "    .dataframe tbody tr th:only-of-type {\n",
       "        vertical-align: middle;\n",
       "    }\n",
       "\n",
       "    .dataframe tbody tr th {\n",
       "        vertical-align: top;\n",
       "    }\n",
       "\n",
       "    .dataframe thead th {\n",
       "        text-align: right;\n",
       "    }\n",
       "</style>\n",
       "<table border=\"1\" class=\"dataframe\">\n",
       "  <thead>\n",
       "    <tr style=\"text-align: right;\">\n",
       "      <th></th>\n",
       "      <th>nome</th>\n",
       "      <th>visitantes_anuais</th>\n",
       "      <th>descricao</th>\n",
       "    </tr>\n",
       "  </thead>\n",
       "  <tbody>\n",
       "    <tr>\n",
       "      <th>0</th>\n",
       "      <td>Acrópole</td>\n",
       "      <td>7000000</td>\n",
       "      <td>Um antigo sítio arqueológico que abriga os mon...</td>\n",
       "    </tr>\n",
       "    <tr>\n",
       "      <th>1</th>\n",
       "      <td>Museu da Acrópole</td>\n",
       "      <td>1400000</td>\n",
       "      <td>Um museu que exibe artefatos e esculturas enco...</td>\n",
       "    </tr>\n",
       "    <tr>\n",
       "      <th>2</th>\n",
       "      <td>Agorá Antiga</td>\n",
       "      <td>500000</td>\n",
       "      <td>O antigo mercado e centro cívico de Atenas, co...</td>\n",
       "    </tr>\n",
       "  </tbody>\n",
       "</table>\n",
       "</div>"
      ],
      "text/plain": [
       "                nome  visitantes_anuais  \\\n",
       "0           Acrópole            7000000   \n",
       "1  Museu da Acrópole            1400000   \n",
       "2       Agorá Antiga             500000   \n",
       "\n",
       "                                           descricao  \n",
       "0  Um antigo sítio arqueológico que abriga os mon...  \n",
       "1  Um museu que exibe artefatos e esculturas enco...  \n",
       "2  O antigo mercado e centro cívico de Atenas, co...  "
      ]
     },
     "execution_count": 21,
     "metadata": {},
     "output_type": "execute_result"
    }
   ],
   "source": [
    "df_atenas = pd.DataFrame(response_json[\"pontos_turisticos\"])\n",
    "df_atenas"
   ]
  },
  {
   "cell_type": "markdown",
   "metadata": {},
   "source": [
    "### Roma"
   ]
  },
  {
   "cell_type": "code",
   "execution_count": 22,
   "metadata": {},
   "outputs": [
    {
     "name": "stdout",
     "output_type": "stream",
     "text": [
      "{\n",
      "\"pontos_turisticos\": [\n",
      "{\n",
      "\"nome\": \"Coliseu\",\n",
      "\"visitantes_anuais\": 7400000,\n",
      "\"descricao\": \"Um anfiteatro romano antigo, conhecido por seus combates de gladiadores e outros espetáculos.\"\n",
      "},\n",
      "{\n",
      "\"nome\": \"Fórum Romano\",\n",
      "\"visitantes_anuais\": 2800000,\n",
      "\"descricao\": \"Restos de um antigo fórum romano, com ruínas de templos, basílica e outras estruturas.\"\n",
      "},\n",
      "{\n",
      "\"nome\": \"Museus do Vaticano\",\n",
      "\"visitantes_anuais\": 6400000,\n",
      "\"descricao\": \"Um complexo de museus que abriga uma vasta coleção de arte e artefatos, incluindo a Capela Sistina.\"\n",
      "}\n",
      "]\n",
      "}\n"
     ]
    }
   ],
   "source": [
    "prompt = turism['roteiro']['roma']\n",
    "\n",
    "response = model.generate_content(prompt + \"\"\"O resultado final deve ser um objeto JSON sem nenhum \n",
    "                                  outro texto a não ser os dados solicitados no seguinte formato:\n",
    "                                  {\n",
    "\"pontos_turisticos\": [\n",
    "{\n",
    "\"nome\": \"Acrópole\",\n",
    "\"visitantes_anuais\": 3000000,\n",
    "\"descricao\": \"Um antigo sítio arqueológico que abriga os monumentos icônicos da Grécia Antiga, incluindo o Parthenon.\"\n",
    "},\n",
    "{\n",
    "\"nome\": \"Fórum Romano\",\n",
    "\"visitantes_anuais\": 1000000,\n",
    "\"descricao\": \"Restos de um antigo fórum romano, com ruínas de templos, basílica e outras estruturas.\"\n",
    "},\n",
    "{\n",
    "\"nome\": \"Museu da Acrópole\",\n",
    "\"visitantes_anuais\": 1500000,\n",
    "\"descricao\": \"Um museu que exibe artefatos e esculturas encontradas na Acrópole, oferecendo insights sobre a história e a cultura da Grécia Antiga.\"\n",
    "}\n",
    "]\n",
    "}\n",
    "                                  \"\"\")\n",
    "print(response.text)"
   ]
  },
  {
   "cell_type": "code",
   "execution_count": 23,
   "metadata": {},
   "outputs": [
    {
     "data": {
      "text/html": [
       "<div>\n",
       "<style scoped>\n",
       "    .dataframe tbody tr th:only-of-type {\n",
       "        vertical-align: middle;\n",
       "    }\n",
       "\n",
       "    .dataframe tbody tr th {\n",
       "        vertical-align: top;\n",
       "    }\n",
       "\n",
       "    .dataframe thead th {\n",
       "        text-align: right;\n",
       "    }\n",
       "</style>\n",
       "<table border=\"1\" class=\"dataframe\">\n",
       "  <thead>\n",
       "    <tr style=\"text-align: right;\">\n",
       "      <th></th>\n",
       "      <th>nome</th>\n",
       "      <th>visitantes_anuais</th>\n",
       "      <th>descricao</th>\n",
       "    </tr>\n",
       "  </thead>\n",
       "  <tbody>\n",
       "    <tr>\n",
       "      <th>0</th>\n",
       "      <td>Coliseu</td>\n",
       "      <td>7400000</td>\n",
       "      <td>Um anfiteatro romano antigo, conhecido por seu...</td>\n",
       "    </tr>\n",
       "    <tr>\n",
       "      <th>1</th>\n",
       "      <td>Fórum Romano</td>\n",
       "      <td>2800000</td>\n",
       "      <td>Restos de um antigo fórum romano, com ruínas d...</td>\n",
       "    </tr>\n",
       "    <tr>\n",
       "      <th>2</th>\n",
       "      <td>Museus do Vaticano</td>\n",
       "      <td>6400000</td>\n",
       "      <td>Um complexo de museus que abriga uma vasta col...</td>\n",
       "    </tr>\n",
       "  </tbody>\n",
       "</table>\n",
       "</div>"
      ],
      "text/plain": [
       "                 nome  visitantes_anuais  \\\n",
       "0             Coliseu            7400000   \n",
       "1        Fórum Romano            2800000   \n",
       "2  Museus do Vaticano            6400000   \n",
       "\n",
       "                                           descricao  \n",
       "0  Um anfiteatro romano antigo, conhecido por seu...  \n",
       "1  Restos de um antigo fórum romano, com ruínas d...  \n",
       "2  Um complexo de museus que abriga uma vasta col...  "
      ]
     },
     "execution_count": 23,
     "metadata": {},
     "output_type": "execute_result"
    }
   ],
   "source": [
    "response_json = json.loads(response.text)\n",
    "df_roma = pd.DataFrame(response_json[\"pontos_turisticos\"])\n",
    "df_roma"
   ]
  },
  {
   "cell_type": "markdown",
   "metadata": {},
   "source": [
    "### Plot"
   ]
  },
  {
   "cell_type": "code",
   "execution_count": 43,
   "metadata": {},
   "outputs": [
    {
     "data": {
      "text/html": [
       "<div>\n",
       "<style scoped>\n",
       "    .dataframe tbody tr th:only-of-type {\n",
       "        vertical-align: middle;\n",
       "    }\n",
       "\n",
       "    .dataframe tbody tr th {\n",
       "        vertical-align: top;\n",
       "    }\n",
       "\n",
       "    .dataframe thead th {\n",
       "        text-align: right;\n",
       "    }\n",
       "</style>\n",
       "<table border=\"1\" class=\"dataframe\">\n",
       "  <thead>\n",
       "    <tr style=\"text-align: right;\">\n",
       "      <th></th>\n",
       "      <th>nome</th>\n",
       "      <th>visitantes_anuais</th>\n",
       "      <th>descricao</th>\n",
       "    </tr>\n",
       "  </thead>\n",
       "  <tbody>\n",
       "    <tr>\n",
       "      <th>0</th>\n",
       "      <td>Acrópole</td>\n",
       "      <td>7.0</td>\n",
       "      <td>Um antigo sítio arqueológico que abriga os mon...</td>\n",
       "    </tr>\n",
       "    <tr>\n",
       "      <th>1</th>\n",
       "      <td>Museu da Acrópole</td>\n",
       "      <td>1.4</td>\n",
       "      <td>Um museu que exibe artefatos e esculturas enco...</td>\n",
       "    </tr>\n",
       "    <tr>\n",
       "      <th>2</th>\n",
       "      <td>Agorá Antiga</td>\n",
       "      <td>0.5</td>\n",
       "      <td>O antigo mercado e centro cívico de Atenas, co...</td>\n",
       "    </tr>\n",
       "    <tr>\n",
       "      <th>0</th>\n",
       "      <td>Coliseu</td>\n",
       "      <td>7.4</td>\n",
       "      <td>Um anfiteatro romano antigo, conhecido por seu...</td>\n",
       "    </tr>\n",
       "    <tr>\n",
       "      <th>1</th>\n",
       "      <td>Fórum Romano</td>\n",
       "      <td>2.8</td>\n",
       "      <td>Restos de um antigo fórum romano, com ruínas d...</td>\n",
       "    </tr>\n",
       "    <tr>\n",
       "      <th>2</th>\n",
       "      <td>Museus do Vaticano</td>\n",
       "      <td>6.4</td>\n",
       "      <td>Um complexo de museus que abriga uma vasta col...</td>\n",
       "    </tr>\n",
       "  </tbody>\n",
       "</table>\n",
       "</div>"
      ],
      "text/plain": [
       "                 nome  visitantes_anuais  \\\n",
       "0            Acrópole                7.0   \n",
       "1   Museu da Acrópole                1.4   \n",
       "2        Agorá Antiga                0.5   \n",
       "0             Coliseu                7.4   \n",
       "1        Fórum Romano                2.8   \n",
       "2  Museus do Vaticano                6.4   \n",
       "\n",
       "                                           descricao  \n",
       "0  Um antigo sítio arqueológico que abriga os mon...  \n",
       "1  Um museu que exibe artefatos e esculturas enco...  \n",
       "2  O antigo mercado e centro cívico de Atenas, co...  \n",
       "0  Um anfiteatro romano antigo, conhecido por seu...  \n",
       "1  Restos de um antigo fórum romano, com ruínas d...  \n",
       "2  Um complexo de museus que abriga uma vasta col...  "
      ]
     },
     "execution_count": 43,
     "metadata": {},
     "output_type": "execute_result"
    }
   ],
   "source": [
    "df_final  = pd.concat([df_atenas, df_roma])\n",
    "df_final['visitantes_anuais'] = df_final['visitantes_anuais']/1E6\n",
    "df_final"
   ]
  },
  {
   "cell_type": "code",
   "execution_count": null,
   "metadata": {},
   "outputs": [
    {
     "name": "stderr",
     "output_type": "stream",
     "text": [
      "/var/folders/s3/551538vd1w73xsy14_50l2w80000gn/T/ipykernel_76266/1924913053.py:2: FutureWarning: \n",
      "\n",
      "Passing `palette` without assigning `hue` is deprecated and will be removed in v0.14.0. Assign the `y` variable to `hue` and set `legend=False` for the same effect.\n",
      "\n",
      "  sns.barplot(x='visitantes_anuais', y='nome', data=df_final.sort_values('visitantes_anuais'), palette='viridis')\n",
      "/var/folders/s3/551538vd1w73xsy14_50l2w80000gn/T/ipykernel_76266/1924913053.py:17: UserWarning: No artists with labels found to put in legend.  Note that artists whose label start with an underscore are ignored when legend() is called with no argument.\n",
      "  plt.legend(title='Legenda')\n"
     ]
    },
    {
     "data": {
      "image/png": "[encoded data removed]",
      "text/plain": [
       "<Figure size 1000x600 with 1 Axes>"
      ]
     },
     "metadata": {},
     "output_type": "display_data"
    }
   ],
   "source": [
    "plt.figure(figsize=(10, 6))\n",
    "sns.barplot(x='visitantes_anuais', y='nome', data=df_final.sort_values('visitantes_anuais'), palette='viridis')\n",
    "\n",
    "plt.xlabel('Número Anual de Visitantes (em milhões)')\n",
    "plt.ylabel('Pontos Turísticos')\n",
    "plt.title('Número Anual de Visitantes por Ponto Turístico')\n",
    "\n",
    "for index, value in enumerate(df_final.sort_values('visitantes_anuais')['visitantes_anuais']):\n",
    "    plt.text(\n",
    "        value +0.1 ,\n",
    "        index,\n",
    "        f'{value:.1f}',\n",
    "        va='center'\n",
    "    )\n",
    "\n",
    "plt.legend(title='Legenda')\n",
    "\n",
    "plt.tight_layout()\n",
    "\n",
    "plt.show()"
   ]
  },
  {
   "cell_type": "code",
   "execution_count": null,
   "metadata": {},
   "outputs": [],
   "source": []
  }
 ],
 "metadata": {
  "kernelspec": {
   "display_name": ".venv",
   "language": "python",
   "name": "python3"
  },
  "language_info": {
   "codemirror_mode": {
    "name": "ipython",
    "version": 3
   },
   "file_extension": ".py",
   "mimetype": "text/x-python",
   "name": "python",
   "nbconvert_exporter": "python",
   "pygments_lexer": "ipython3",
   "version": "3.12.4"
  }
 },
 "nbformat": 4,
 "nbformat_minor": 2
}
